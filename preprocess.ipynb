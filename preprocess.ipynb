{
 "cells": [
  {
   "cell_type": "markdown",
   "metadata": {},
   "source": [
    "# Preprocessing data"
   ]
  },
  {
   "cell_type": "markdown",
   "metadata": {},
   "source": [
    "## Docker image\n",
    "\n",
    "We need to run a processing job in SageMaker using a Docker container. Since this is going to be a simple job to prepare our dataset of images, let's create a simple Python image with everything we need to run the job."
   ]
  },
  {
   "cell_type": "code",
   "execution_count": 3,
   "metadata": {},
   "outputs": [
    {
     "name": "stdout",
     "output_type": "stream",
     "text": [
      "Overwriting containers/basic/Dockerfile\n"
     ]
    }
   ],
   "source": [
    "%%writefile containers/basic/Dockerfile\n",
    "\n",
    "FROM python:3.8.5-slim AS build\n",
    "\n",
    "RUN apt-get clean && \\\n",
    "    apt-get update -y && \\\n",
    "    apt-get install -y --no-install-recommends \\\n",
    "    python3-dev build-essential ca-certificates\n",
    "\n",
    "WORKDIR /build\n",
    "\t\t\n",
    "COPY requirements.txt .\n",
    "ENV PATH=/root/.local/bin:$PATH\n",
    "\n",
    "RUN pip install --user --upgrade pip\n",
    "RUN pip install --user cython\n",
    "RUN pip install --user pyyaml\n",
    "RUN pip install --user -r requirements.txt\n",
    "\n",
    "COPY config.yml .\n",
    "\n",
    "FROM python:3.8.5-slim \n",
    "\n",
    "RUN apt-get clean && \\\n",
    "    apt-get update -y && \\\n",
    "    apt-get install -y ca-certificates\n",
    "\n",
    "ENV PATH=\"/opt/ml/code:/root/.local/bin:${PATH}\"\n",
    "RUN mkdir -p /opt/ml/code\n",
    "WORKDIR /opt/ml/code\n",
    "\n",
    "COPY --from=build /root/.local /root/.local\n",
    "COPY --from=build /build/ .\n",
    "\n",
    "ENTRYPOINT [\"python3\"]"
   ]
  },
  {
   "cell_type": "code",
   "execution_count": 4,
   "metadata": {},
   "outputs": [
    {
     "name": "stdout",
     "output_type": "stream",
     "text": [
      "Overwriting containers/basic/requirements.txt\n"
     ]
    }
   ],
   "source": [
    "%%writefile containers/basic/requirements.txt\n",
    "\n",
    "pandas\n",
    "numpy"
   ]
  },
  {
   "cell_type": "markdown",
   "metadata": {},
   "source": [
    "### Setting up the ECR repository\n",
    "\n",
    "We need to make the Docker image available by uploading it to ECR. For that, we first need to create the repository."
   ]
  },
  {
   "cell_type": "code",
   "execution_count": 5,
   "metadata": {},
   "outputs": [],
   "source": [
    "REPOSITORY_NAME = \"preprocess\"\n",
    "REPOSITORY_TAG = \"latest\""
   ]
  },
  {
   "cell_type": "markdown",
   "metadata": {},
   "source": [
    "Let's create the ECR repository unless it already exists. In either case, we are going to grab the URI of the repository to use it to tag and push our Docker image later."
   ]
  },
  {
   "cell_type": "code",
   "execution_count": 17,
   "metadata": {},
   "outputs": [
    {
     "name": "stdout",
     "output_type": "stream",
     "text": [
      "ECR Repository: 048982217509.dkr.ecr.us-west-2.amazonaws.com/preprocess\n"
     ]
    }
   ],
   "source": [
    "repository = !aws ecr describe-repositories \\\n",
    "    --repository-names $REPOSITORY_NAME \\\n",
    "    --query \"repositories[0].repositoryUri\" \\\n",
    "    || aws ecr create-repository --repository-name $REPOSITORY_NAME\n",
    "\n",
    "repository_uri = repository[0][1:-1]\n",
    "repository = repository_uri[0:repository_uri.index(\"/\")]\n",
    "\n",
    "print(f\"ECR Repository: {repository}/{REPOSITORY_NAME}\")"
   ]
  },
  {
   "cell_type": "markdown",
   "metadata": {},
   "source": [
    "### Building and pushing the image to the ECR repository"
   ]
  },
  {
   "cell_type": "markdown",
   "metadata": {},
   "source": [
    "Let's build, tag, and push our Docker image to the ECR repository that we created.\n",
    "\n",
    "In order to push the image, we need to authenticate the Docker session."
   ]
  },
  {
   "cell_type": "code",
   "execution_count": null,
   "metadata": {},
   "outputs": [],
   "source": [
    "!aws ecr get-login-password | docker login --username AWS --password-stdin $repository\n",
    "!docker build -t $repository/$REPOSITORY_NAME:$REPOSITORY_TAG containers/basic/.\n",
    "!docker push $repository/$REPOSITORY_NAME:$REPOSITORY_TAG"
   ]
  }
 ],
 "metadata": {
  "instance_type": "ml.t3.medium",
  "kernelspec": {
   "display_name": "conda_tensorflow_p36",
   "language": "python",
   "name": "conda_tensorflow_p36"
  },
  "language_info": {
   "codemirror_mode": {
    "name": "ipython",
    "version": 3
   },
   "file_extension": ".py",
   "mimetype": "text/x-python",
   "name": "python",
   "nbconvert_exporter": "python",
   "pygments_lexer": "ipython3",
   "version": "3.6.10"
  }
 },
 "nbformat": 4,
 "nbformat_minor": 4
}
